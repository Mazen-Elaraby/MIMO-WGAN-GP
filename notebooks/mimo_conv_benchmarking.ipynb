{
 "cells": [
  {
   "cell_type": "markdown",
   "metadata": {},
   "source": [
    "# Benchmarking MIMO Convolution"
   ]
  },
  {
   "cell_type": "markdown",
   "metadata": {},
   "source": [
    "This is notebook aims at validating a batched implementation of the MIMO convolution. It validated against a basic implementation of the equation below.\n",
    "\n",
    "In addition, the batched implementation is benchmarked against the loop-based implementation on GPU to demonstrate performance speed-ups"
   ]
  },
  {
   "cell_type": "markdown",
   "metadata": {},
   "source": [
    "$$\\begin{align*}\n",
    "\\mathbf{Y}[i][t] = \\sum_{j=1}^{N_t}\\sum_{k=0}^{l-1}\\mathbf{H}[i][j][k] \\cdot \\mathbf{X}[j][t-k]\n",
    "\\end{align*}\n",
    "$$"
   ]
  },
  {
   "cell_type": "code",
   "execution_count": 1,
   "metadata": {},
   "outputs": [],
   "source": [
    "import torch\n",
    "import numpy as np\n",
    "\n",
    "from torch.nn.functional import conv1d"
   ]
  },
  {
   "cell_type": "code",
   "execution_count": 2,
   "metadata": {},
   "outputs": [],
   "source": [
    "def mimo_conv_loop(input_signal, channel_tensor, d_type, batch_size, Nr, Nt, T):\n",
    "    \"\"\"\n",
    "    Perform a MIMO (Multiple Input Multiple Output) convolution on the given input signal using the specified channel tensor.\n",
    "\n",
    "    This function applies a convolutional operation across multiple antenna pairs over a multipath channel model. \n",
    "    The input signal matrix is convolved with the channel tensor to compute the received signal matrix.\n",
    "\n",
    "    Args:\n",
    "        input_signal (torch.Tensor): An input signal matrix of shape (Nt, T) where:\n",
    "            - Nt: Number of transmit antennas\n",
    "            - T: Length of the input signal for each antenna\n",
    "        \n",
    "        channel_tensor (torch.Tensor): A 4D tensor representing the channel model of shape (batch_size, Nr, Nt, l) where:\n",
    "            - batch_size: Number of samples in the batch\n",
    "            - Nr: Number of receive antennas\n",
    "            - Nt: Number of transmit antennas\n",
    "            - l: Number of paths in the multipath channel\n",
    "        \n",
    "        d_type (torch.dtype): Data type for the computation of the output tensor.\n",
    "        \n",
    "        batch_size (int): Number of samples in the batch.\n",
    "        \n",
    "        Nr (int): Number of receive antennas.\n",
    "        \n",
    "        Nt (int): Number of transmit antennas.\n",
    "        \n",
    "        T (int): Length of the received signal for each antenna.\n",
    "\n",
    "    Returns:\n",
    "        torch.Tensor: An output signal matrix of shape (batch_size, Nr, T) containing the convolved received signals.\n",
    "    \"\"\"\n",
    "    # Pre-allocate the output signal Y of shape [batch_size, Nr, T]\n",
    "    Y = torch.zeros(batch_size, Nr, T, dtype=d_type, device=input_signal.device)\n",
    "\n",
    "    for b in range(batch_size):\n",
    "        for i in range(Nr):\n",
    "            for j in range(Nt):\n",
    "                x_j = input_signal[j].view(1, 1, -1)  # Reshape to [batch size, channels, length]\n",
    "                h_ij = channel_tensor[b, i, j].view(1, 1, -1)  # Reshape to [output channels, input channels, kernel size]\n",
    "\n",
    "                # Convolution without padding\n",
    "                y_ij = conv1d(x_j, h_ij, padding='same')\n",
    "\n",
    "                # Summing up contributions\n",
    "                Y[b,i,:] += y_ij.squeeze()\n",
    "    \n",
    "    return Y"
   ]
  },
  {
   "cell_type": "code",
   "execution_count": 3,
   "metadata": {},
   "outputs": [],
   "source": [
    "def mimo_conv_batched(input_signal, channel_tensor, batch_size, Nr, Nt, l, T):\n",
    "    \"\"\"\n",
    "    Perform a batched MIMO (Multiple Input Multiple Output) convolution on the input signal using the provided channel tensor.\n",
    "\n",
    "    This function efficiently computes the convolution across a batch of samples using a broadcast operation, \n",
    "    applying the convolutional operation over multiple receive antennas simultaneously.\n",
    "\n",
    "    Args:\n",
    "        input_signal (torch.Tensor): A 3D input signal tensor of shape (1, Nt, T) where:\n",
    "            - Nt: Number of transmit antennas\n",
    "            - T: Length of the input signal for each antenna\n",
    "\n",
    "        channel_tensor (torch.Tensor): A 4D tensor representing the channel model of shape (batch_size, Nr, Nt, l) where:\n",
    "            - batch_size: Number of samples in the batch\n",
    "            - Nr: Number of receive antennas\n",
    "            - Nt: Number of transmit antennas\n",
    "            - l: Number of paths in the multipath channel\n",
    "        \n",
    "        Nr (int): Number of receive antennas.\n",
    "        \n",
    "        Nt (int): Number of transmit antennas.\n",
    "        \n",
    "        l (int): Number of paths in the multipath channel.\n",
    "        \n",
    "        T (int): Length of the received signal for each antenna.\n",
    "\n",
    "    Returns:\n",
    "        torch.Tensor: An output signal matrix of shape (batch_size, Nr, T) containing the convolved received signals.\n",
    "    \"\"\"\n",
    "    \n",
    "    channel_tensor = channel_tensor.view(batch_size * Nr, Nt, l)  # Reshape H for conv1d: [(batch_size * Nr), Nt, l]\n",
    "    Y = conv1d(input_signal, channel_tensor, padding='same')\n",
    "    Y = Y.view(batch_size, Nr, T)\n",
    "\n",
    "    return Y"
   ]
  },
  {
   "cell_type": "code",
   "execution_count": 4,
   "metadata": {},
   "outputs": [],
   "source": [
    "# Simulation Parameters\n",
    "Nr = 4  # Number of receive antennas\n",
    "Nt = 4  # Number of transmit antennas\n",
    "l = 23  # Kernel size (number of paths)\n",
    "T = 128  # Length of the input signal"
   ]
  },
  {
   "cell_type": "code",
   "execution_count": 5,
   "metadata": {},
   "outputs": [
    {
     "data": {
      "text/plain": [
       "device(type='cuda')"
      ]
     },
     "execution_count": 5,
     "metadata": {},
     "output_type": "execute_result"
    }
   ],
   "source": [
    "device = torch.device('cuda' if torch.cuda.is_available() else 'cpu')\n",
    "device"
   ]
  },
  {
   "cell_type": "markdown",
   "metadata": {},
   "source": [
    "## Validating equivalence of both approaches"
   ]
  },
  {
   "cell_type": "markdown",
   "metadata": {},
   "source": [
    "### float32"
   ]
  },
  {
   "cell_type": "code",
   "execution_count": 15,
   "metadata": {},
   "outputs": [],
   "source": [
    "X_32 = torch.randn(1, Nt, T, dtype=torch.float32).to(device)\n",
    "H_32 = torch.randn(16, Nr, Nt, l, dtype=torch.float32).flip(dims=[-1]).to(device)"
   ]
  },
  {
   "cell_type": "code",
   "execution_count": 16,
   "metadata": {},
   "outputs": [],
   "source": [
    "X_32_loop = X_32.squeeze()\n",
    "Y_loop_32 = mimo_conv_loop(X_32_loop, H_32, torch.float32, 16, Nr, Nt, T)"
   ]
  },
  {
   "cell_type": "code",
   "execution_count": 17,
   "metadata": {},
   "outputs": [],
   "source": [
    "Y_batched_32 = mimo_conv_batched(X_32, H_32, 16, Nr, Nt, l, T)"
   ]
  },
  {
   "cell_type": "code",
   "execution_count": 9,
   "metadata": {},
   "outputs": [
    {
     "data": {
      "text/plain": [
       "0.1"
      ]
     },
     "execution_count": 9,
     "metadata": {},
     "output_type": "execute_result"
    }
   ],
   "source": [
    "tolerances = [10 ** (-i) for i in range(1, 65)]\n",
    "tol = 0\n",
    "for i, tolerance in enumerate(tolerances):\n",
    "    flag = torch.allclose(Y_loop_32, Y_batched_32, atol=tolerance, rtol=0)\n",
    "    if flag==False:\n",
    "        tol = tolerances[i-1]\n",
    "        break\n",
    "tol"
   ]
  },
  {
   "cell_type": "markdown",
   "metadata": {},
   "source": [
    "### float64"
   ]
  },
  {
   "cell_type": "code",
   "execution_count": 12,
   "metadata": {},
   "outputs": [],
   "source": [
    "X_64 = torch.randn(1, Nt, T, dtype=torch.float64).to(device)\n",
    "H_64 = torch.randn(16, Nr, Nt, l, dtype=torch.float64).flip(dims=[-1]).to(device)"
   ]
  },
  {
   "cell_type": "code",
   "execution_count": 13,
   "metadata": {},
   "outputs": [],
   "source": [
    "X_64_loop = X_64.squeeze()\n",
    "Y_loop_64 = mimo_conv_loop(X_64_loop, H_64, torch.float64, 16, Nr, Nt, T)"
   ]
  },
  {
   "cell_type": "code",
   "execution_count": 14,
   "metadata": {},
   "outputs": [],
   "source": [
    "Y_batched_64 = mimo_conv_batched(X_64, H_64, 16, Nr, Nt, l, T)"
   ]
  },
  {
   "cell_type": "code",
   "execution_count": 15,
   "metadata": {},
   "outputs": [
    {
     "data": {
      "text/plain": [
       "1e-13"
      ]
     },
     "execution_count": 15,
     "metadata": {},
     "output_type": "execute_result"
    }
   ],
   "source": [
    "tolerances = [10 ** (-i) for i in range(1, 65)]\n",
    "tol = 0\n",
    "for i, tolerance in enumerate(tolerances):\n",
    "    flag = torch.allclose(Y_loop_64, Y_batched_64, atol=tolerance, rtol=0)\n",
    "    if flag==False:\n",
    "        tol = tolerances[i-1]\n",
    "        break\n",
    "tol"
   ]
  },
  {
   "cell_type": "markdown",
   "metadata": {},
   "source": [
    "since the discrepancy is too severe using float32 tensors, we will stick to float64 tensors"
   ]
  },
  {
   "cell_type": "markdown",
   "metadata": {},
   "source": [
    "## GPU Benchmarking"
   ]
  },
  {
   "cell_type": "code",
   "execution_count": 14,
   "metadata": {},
   "outputs": [],
   "source": [
    "# find optimal backend for performing convolutions \n",
    "torch.backends.cudnn.benchmark = True "
   ]
  },
  {
   "cell_type": "code",
   "execution_count": 15,
   "metadata": {},
   "outputs": [],
   "source": [
    "# INIT LOGGERS\n",
    "starter, ender = torch.cuda.Event(enable_timing=True), torch.cuda.Event(enable_timing=True)"
   ]
  },
  {
   "cell_type": "code",
   "execution_count": 16,
   "metadata": {},
   "outputs": [],
   "source": [
    "repetitions = 100\n",
    "batch_sizes = [2**i for i in range(11)]"
   ]
  },
  {
   "cell_type": "markdown",
   "metadata": {},
   "source": [
    "### Benchmarking Loop-Based Implementation"
   ]
  },
  {
   "cell_type": "code",
   "execution_count": 17,
   "metadata": {},
   "outputs": [
    {
     "data": {
      "text/plain": [
       "(100, 11)"
      ]
     },
     "execution_count": 17,
     "metadata": {},
     "output_type": "execute_result"
    }
   ],
   "source": [
    "timings_loop = np.zeros((repetitions, len(batch_sizes)))\n",
    "timings_loop.shape"
   ]
  },
  {
   "cell_type": "code",
   "execution_count": 18,
   "metadata": {},
   "outputs": [
    {
     "name": "stdout",
     "output_type": "stream",
     "text": [
      "torch.Size([1, 4, 128]) torch.Size([4, 128])\n"
     ]
    }
   ],
   "source": [
    "X = torch.randn(1, Nt, T, dtype=torch.float64).to(device)\n",
    "X_loop = X.squeeze()\n",
    "print(X.shape, X_loop.shape) "
   ]
  },
  {
   "cell_type": "code",
   "execution_count": 19,
   "metadata": {},
   "outputs": [],
   "source": [
    "#GPU warmup\n",
    "warmup_iterations = 10\n",
    "for _ in range(warmup_iterations):\n",
    "    _ = mimo_conv_loop(X_loop, H_64, torch.float64, 16, Nr, Nt, T)"
   ]
  },
  {
   "cell_type": "code",
   "execution_count": 20,
   "metadata": {},
   "outputs": [
    {
     "name": "stdout",
     "output_type": "stream",
     "text": [
      "1\n",
      "2\n",
      "4\n",
      "8\n",
      "16\n",
      "32\n",
      "64\n",
      "128\n",
      "256\n",
      "512\n",
      "1024\n"
     ]
    }
   ],
   "source": [
    "#Measure Performance\n",
    "with torch.no_grad():\n",
    "    for i, b in enumerate(batch_sizes):\n",
    "        print(b)\n",
    "        H = torch.randn(b, Nr, Nt, l, dtype=torch.float64).flip(dims=[-1]).to(device)\n",
    "        for rep in range(repetitions):\n",
    "            starter.record()\n",
    "            _ = mimo_conv_loop(X_loop, H, torch.float64, b, Nr, Nt, T)\n",
    "            ender.record()\n",
    "            # WAIT FOR GPU SYNC\n",
    "            torch.cuda.synchronize()\n",
    "            curr_time = starter.elapsed_time(ender)\n",
    "            timings_loop[rep, i] = curr_time"
   ]
  },
  {
   "cell_type": "code",
   "execution_count": 21,
   "metadata": {},
   "outputs": [
    {
     "name": "stdout",
     "output_type": "stream",
     "text": [
      "(11,) (11,)\n"
     ]
    }
   ],
   "source": [
    "means_loop = timings_loop.mean(axis=0)\n",
    "stds_loop = timings_loop.std(axis=0)\n",
    "print(means_loop.shape, stds_loop.shape)"
   ]
  },
  {
   "cell_type": "markdown",
   "metadata": {},
   "source": [
    "### Benchmarking batched Implementation"
   ]
  },
  {
   "cell_type": "code",
   "execution_count": 23,
   "metadata": {},
   "outputs": [],
   "source": [
    "timings_batched = np.zeros((repetitions, len(batch_sizes)))"
   ]
  },
  {
   "cell_type": "code",
   "execution_count": 24,
   "metadata": {},
   "outputs": [],
   "source": [
    "#GPU warmup\n",
    "for _ in range(warmup_iterations):\n",
    "    _ = mimo_conv_batched(X, H_64, 16, Nr, Nt, l, T)"
   ]
  },
  {
   "cell_type": "code",
   "execution_count": 25,
   "metadata": {},
   "outputs": [],
   "source": [
    "#Measure Performance\n",
    "with torch.no_grad():\n",
    "    for i, b in enumerate(batch_sizes):\n",
    "        H = torch.randn(b, Nr, Nt, l, dtype=torch.float64).flip(dims=[-1]).to(device)\n",
    "        for rep in range(repetitions):\n",
    "            starter.record()\n",
    "            _ = mimo_conv_batched(X, H, b, Nr, Nt, l, T)\n",
    "            ender.record()\n",
    "            # WAIT FOR GPU SYNC\n",
    "            torch.cuda.synchronize()\n",
    "            curr_time = starter.elapsed_time(ender)\n",
    "            timings_batched[rep, i] = curr_time"
   ]
  },
  {
   "cell_type": "code",
   "execution_count": 26,
   "metadata": {},
   "outputs": [
    {
     "name": "stdout",
     "output_type": "stream",
     "text": [
      "(11,) (11,)\n"
     ]
    }
   ],
   "source": [
    "means_batched = timings_batched.mean(axis=0)\n",
    "stds_batched = timings_batched.std(axis=0)\n",
    "print(means_batched.shape, stds_batched.shape)"
   ]
  },
  {
   "cell_type": "markdown",
   "metadata": {},
   "source": [
    "## Plotting Results"
   ]
  },
  {
   "cell_type": "code",
   "execution_count": 27,
   "metadata": {},
   "outputs": [],
   "source": [
    "import matplotlib.pyplot as plt"
   ]
  },
  {
   "cell_type": "code",
   "execution_count": 34,
   "metadata": {},
   "outputs": [
    {
     "data": {
      "image/png": "[encoded data removed]",
      "text/plain": [
       "<Figure size 640x480 with 1 Axes>"
      ]
     },
     "metadata": {},
     "output_type": "display_data"
    }
   ],
   "source": [
    "plt.figure()\n",
    "plt.errorbar(batch_sizes, means_loop, yerr=stds_loop, label=\"Loop-Based Implementation\", fmt='-o')\n",
    "plt.errorbar(batch_sizes, means_batched, yerr=stds_batched, label=\"Batched Implementation\", fmt='-s')\n",
    "plt.legend()\n",
    "plt.xlabel(\"Batch Size\")\n",
    "plt.ylabel(\"Mean time (ms)\")\n",
    "plt.show()"
   ]
  },
  {
   "cell_type": "markdown",
   "metadata": {},
   "source": [
    "Batched operation is significantly faster and with less measurment standard deviation.\n",
    "This is due to:\n",
    "- batched/parallel operation (optimized on GPU)\n",
    "- less context switching\n",
    "- less function calls, synchronization overhead, kernel launches,..."
   ]
  },
  {
   "cell_type": "markdown",
   "metadata": {},
   "source": [
    "## Dealing with complex data"
   ]
  },
  {
   "cell_type": "markdown",
   "metadata": {},
   "source": [
    "$$\\begin{align*}\n",
    "\\text{Re}(y) &= \\text{Re}(x) * \\text{Re}(k) - \\text{Im}(x) * \\text{Im}(k) \\\\\n",
    "\\text{Im}(y) &= \\text{Re}(x) * \\text{Im}(k) + \\text{Im}(x) * \\text{Re}(k)\n",
    "\\end{align*}$$\n"
   ]
  },
  {
   "cell_type": "markdown",
   "metadata": {},
   "source": [
    "### Validating pytorch's output"
   ]
  },
  {
   "cell_type": "code",
   "execution_count": 39,
   "metadata": {},
   "outputs": [],
   "source": [
    "X_C64 = torch.randn(1, Nt, T, dtype=torch.complex128).to(device)\n",
    "H_C64 = torch.randn(2, Nr, Nt, l, dtype=torch.complex128).flip(dims=[-1]).to(device)"
   ]
  },
  {
   "cell_type": "code",
   "execution_count": 33,
   "metadata": {},
   "outputs": [],
   "source": [
    "# Split into real and imaginary parts\n",
    "X_real = X_C64.real\n",
    "X_imag = X_C64.imag\n",
    "\n",
    "H_real = H_C64.real\n",
    "H_imag = H_C64.imag"
   ]
  },
  {
   "cell_type": "code",
   "execution_count": 34,
   "metadata": {},
   "outputs": [],
   "source": [
    "# Compute convolutions for real and imaginary parts\n",
    "Y_real_real = mimo_conv_batched(X_real, H_real, 1, Nr, Nt, l, T)\n",
    "Y_real_imag = mimo_conv_batched(X_real, H_imag, 1, Nr, Nt, l, T)\n",
    "Y_imag_real = mimo_conv_batched(X_imag, H_real, 1, Nr, Nt, l, T)\n",
    "Y_imag_imag = mimo_conv_batched(X_imag, H_imag, 1, Nr, Nt, l, T)"
   ]
  },
  {
   "cell_type": "code",
   "execution_count": 35,
   "metadata": {},
   "outputs": [],
   "source": [
    "# Combine to form complex convolution output\n",
    "Y_real = Y_real_real - Y_imag_imag\n",
    "Y_imag = Y_real_imag + Y_imag_real"
   ]
  },
  {
   "cell_type": "code",
   "execution_count": 36,
   "metadata": {},
   "outputs": [],
   "source": [
    "# Create final complex tensor\n",
    "Y_C64 = torch.complex(Y_real, Y_imag)"
   ]
  },
  {
   "cell_type": "code",
   "execution_count": 37,
   "metadata": {},
   "outputs": [],
   "source": [
    "Y_batched = mimo_conv_batched(X_C64, H_C64, 1, Nr, Nt, l, T)"
   ]
  },
  {
   "cell_type": "code",
   "execution_count": 38,
   "metadata": {},
   "outputs": [
    {
     "data": {
      "text/plain": [
       "1e-13"
      ]
     },
     "execution_count": 38,
     "metadata": {},
     "output_type": "execute_result"
    }
   ],
   "source": [
    "tolerances = [10 ** (-i) for i in range(1, 65)]\n",
    "tol = 0\n",
    "for i, tolerance in enumerate(tolerances):\n",
    "    flag = torch.allclose(Y_C64, Y_batched, atol=tolerance, rtol=0)\n",
    "    if flag==False:\n",
    "        tol = tolerances[i-1]\n",
    "        break\n",
    "tol"
   ]
  },
  {
   "cell_type": "markdown",
   "metadata": {},
   "source": [
    "## Preparing Tensor for Convolution"
   ]
  },
  {
   "cell_type": "code",
   "execution_count": 11,
   "metadata": {},
   "outputs": [],
   "source": [
    "import yaml"
   ]
  },
  {
   "cell_type": "code",
   "execution_count": 12,
   "metadata": {},
   "outputs": [
    {
     "data": {
      "text/plain": [
       "[0.0,\n",
       " 0.3819,\n",
       " 0.4025,\n",
       " 0.5868,\n",
       " 0.461,\n",
       " 0.5375,\n",
       " 0.6708,\n",
       " 0.575,\n",
       " 0.7618,\n",
       " 1.5375,\n",
       " 1.8978,\n",
       " 2.2242,\n",
       " 2.1718,\n",
       " 2.4942,\n",
       " 2.5119,\n",
       " 3.0582,\n",
       " 4.081,\n",
       " 3.7648,\n",
       " 4.5695,\n",
       " 4.7966,\n",
       " 5.0066,\n",
       " 5.3043,\n",
       " 9.6586]"
      ]
     },
     "execution_count": 12,
     "metadata": {},
     "output_type": "execute_result"
    }
   ],
   "source": [
    "# Load the YAML file\n",
    "with open(\"normalized_delays.yaml\", \"r\") as yaml_file:\n",
    "    data = yaml.safe_load(yaml_file)\n",
    "\n",
    "# Extract the list of normalized delays\n",
    "normalized_delays = data[\"normalized_delays\"]\n",
    "normalized_delays"
   ]
  },
  {
   "cell_type": "code",
   "execution_count": 13,
   "metadata": {},
   "outputs": [
    {
     "data": {
      "text/plain": [
       "array([0.00000e+00, 1.14570e-07, 1.20750e-07, 1.76040e-07, 1.38300e-07,\n",
       "       1.61250e-07, 2.01240e-07, 1.72500e-07, 2.28540e-07, 4.61250e-07,\n",
       "       5.69340e-07, 6.67260e-07, 6.51540e-07, 7.48260e-07, 7.53570e-07,\n",
       "       9.17460e-07, 1.22430e-06, 1.12944e-06, 1.37085e-06, 1.43898e-06,\n",
       "       1.50198e-06, 1.59129e-06, 2.89758e-06])"
      ]
     },
     "execution_count": 13,
     "metadata": {},
     "output_type": "execute_result"
    }
   ],
   "source": [
    "delay_spread = 300e-9\n",
    "fs = 30.72e6\n",
    "Ts = 1/fs  # Example sampling time (replace with actual)\n",
    "delays_sec = np.array(normalized_delays) * delay_spread\n",
    "sample_indices = np.round(delays_sec / Ts).astype(int)\n",
    "sample_indices\n",
    "delays_sec"
   ]
  },
  {
   "cell_type": "code",
   "execution_count": 14,
   "metadata": {},
   "outputs": [
    {
     "data": {
      "text/plain": [
       "array([ 0,  4,  4,  5,  4,  5,  6,  5,  7, 14, 17, 20, 20, 23, 23, 28, 38,\n",
       "       35, 42, 44, 46, 49, 89])"
      ]
     },
     "execution_count": 14,
     "metadata": {},
     "output_type": "execute_result"
    }
   ],
   "source": [
    "sample_indices"
   ]
  },
  {
   "cell_type": "code",
   "execution_count": 40,
   "metadata": {},
   "outputs": [],
   "source": [
    "sample_indices = torch.tensor([0, 1, 2, 3, 4, 5, 6, 7, 8, 14, 17, 19, 20, 22, 23, 28, 35, 38, 42, 44, 46, 49, 89], device=device)"
   ]
  },
  {
   "cell_type": "code",
   "execution_count": 67,
   "metadata": {},
   "outputs": [
    {
     "name": "stdout",
     "output_type": "stream",
     "text": [
      "torch.Size([2, 4, 4, 23]) torch.Size([2, 4, 4, 90])\n"
     ]
    }
   ],
   "source": [
    "# Find the required length for the final tensor\n",
    "channel_vector_length = max(sample_indices).item() + 1\n",
    "\n",
    "# Initialize the destination tensor with zeros\n",
    "destination_tensor = torch.zeros((2, Nr, Nt, channel_vector_length), dtype=torch.complex64, device=device)\n",
    "\n",
    "# Create index tensors\n",
    "Nr_indices = torch.arange(Nr, device=device).view(1, -1, 1, 1)  #\n",
    "Nt_indices = torch.arange(Nt, device=device).view(1, 1, -1, 1)  \n",
    "sample_indicess = sample_indices.view(1, 1, 1, -1)  # Shape (1, 1, l)\n",
    "batch_indices = torch.arange(2, device=device).view(-1,1,1,1)\n",
    "\n",
    "# Use broadcasting to copy the original tensor's paths into the destination tensor\n",
    "destination_tensor[batch_indices, Nr_indices, Nt_indices, sample_indicess] = H_C64\n",
    "\n",
    "print(H_C64.shape, destination_tensor.shape)"
   ]
  }
 ],
 "metadata": {
  "kernelspec": {
   "display_name": "Python 3",
   "language": "python",
   "name": "python3"
  },
  "language_info": {
   "codemirror_mode": {
    "name": "ipython",
    "version": 3
   },
   "file_extension": ".py",
   "mimetype": "text/x-python",
   "name": "python",
   "nbconvert_exporter": "python",
   "pygments_lexer": "ipython3",
   "version": "3.10.7"
  }
 },
 "nbformat": 4,
 "nbformat_minor": 2
}
